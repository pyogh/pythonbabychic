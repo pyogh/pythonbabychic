{
  "nbformat": 4,
  "nbformat_minor": 0,
  "metadata": {
    "colab": {
      "name": "5주차 6주차 과제(인디야).ipynb",
      "provenance": [],
      "collapsed_sections": [],
      "authorship_tag": "ABX9TyOmK0xOYmKzOkK8mvwUHXgL",
      "include_colab_link": true
    },
    "kernelspec": {
      "name": "python3",
      "display_name": "Python 3"
    },
    "language_info": {
      "name": "python"
    }
  },
  "cells": [
    {
      "cell_type": "markdown",
      "metadata": {
        "id": "view-in-github",
        "colab_type": "text"
      },
      "source": [
        "<a href=\"https://colab.research.google.com/github/pyogh/pythonbabychic/blob/main/5%EC%A3%BC%EC%B0%A8_6%EC%A3%BC%EC%B0%A8_%EA%B3%BC%EC%A0%9C(%EC%9D%B8%EB%94%94%EC%95%BC).ipynb\" target=\"_parent\"><img src=\"https://colab.research.google.com/assets/colab-badge.svg\" alt=\"Open In Colab\"/></a>"
      ]
    },
    {
      "cell_type": "code",
      "execution_count": null,
      "metadata": {
        "id": "zkG_S5JN1-kZ"
      },
      "outputs": [],
      "source": [
        "# 프로그램 개요\n",
        "# 만 7 - 12세 아동(초등학생) 수의 변화 비교\n",
        "# 초등학생 수를 계산하여 지역별 그래프로 비교\n",
        "# 1. 초등학생 수의 변화를 관찰하고\n",
        "# 2. 어느 지역의 초등학생이 어떻게 변하는지 비교"
      ]
    },
    {
      "cell_type": "code",
      "source": [
        "# 1. 연도별 초등학생 수 csv파일 읽어오기\n",
        "# 2. 그래프로 나타내기(숫자와 범례)\n",
        "# 3. 그래프를 보고 기울기 비교\n",
        "# 4. 숫자로 파악하여 10년간 변화 폭(변화한 학생 수/(2012~2021년 학생 수의 평균))확인"
      ],
      "metadata": {
        "id": "zTXzy9K-2Di1"
      },
      "execution_count": null,
      "outputs": []
    },
    {
      "cell_type": "code",
      "source": [
        "!apt-get install fonts-nanum -qq > /dev/null\n",
        "!fc-cache -fv\n",
        "import matplotlib as mpl\n",
        "mpl.font_manager._rebuild()\n",
        "findfont = mpl.font_manager.fontManager.findfont\n",
        "mpl.font_manager.findfont = findfont\n",
        "mpl.backends.backend_agg.findfont = findfont"
      ],
      "metadata": {
        "id": "51uMlQUNAhnI",
        "colab": {
          "base_uri": "https://localhost:8080/"
        },
        "outputId": "b8514b74-c542-4900-a377-eda0bbcb4028"
      },
      "execution_count": 1,
      "outputs": [
        {
          "output_type": "stream",
          "name": "stdout",
          "text": [
            "/usr/share/fonts: caching, new cache contents: 0 fonts, 1 dirs\n",
            "/usr/share/fonts/truetype: caching, new cache contents: 0 fonts, 3 dirs\n",
            "/usr/share/fonts/truetype/humor-sans: caching, new cache contents: 1 fonts, 0 dirs\n",
            "/usr/share/fonts/truetype/liberation: caching, new cache contents: 16 fonts, 0 dirs\n",
            "/usr/share/fonts/truetype/nanum: caching, new cache contents: 10 fonts, 0 dirs\n",
            "/usr/local/share/fonts: caching, new cache contents: 0 fonts, 0 dirs\n",
            "/root/.local/share/fonts: skipping, no such directory\n",
            "/root/.fonts: skipping, no such directory\n",
            "/var/cache/fontconfig: cleaning cache directory\n",
            "/root/.cache/fontconfig: not cleaning non-existent cache directory\n",
            "/root/.fontconfig: not cleaning non-existent cache directory\n",
            "fc-cache: succeeded\n"
          ]
        }
      ]
    },
    {
      "cell_type": "code",
      "source": [
        "# 1. 연도별 초등학생 수 csv파일 읽어오기\n",
        "import csv\n",
        "import time\n",
        "data2012 = csv.reader(open('2012elstu.csv'))\n",
        "data2013 = csv.reader(open('2013elstu.csv'))\n",
        "data2014 = csv.reader(open('2014elstu.csv'))\n",
        "data2015 = csv.reader(open('2015elstu.csv'))\n",
        "data2016 = csv.reader(open('2016elstu.csv'))\n",
        "data2017 = csv.reader(open('2017elstu.csv'))\n",
        "data2018 = csv.reader(open('2018elstu.csv'))\n",
        "data2019 = csv.reader(open('2019elstu.csv'))\n",
        "data2020 = csv.reader(open('2020elstu.csv'))\n",
        "data2021 = csv.reader(open('2021elstu.csv'))\n",
        "\n",
        "next(data2012)\n",
        "next(data2013)\n",
        "next(data2014)\n",
        "next(data2015)\n",
        "next(data2016)\n",
        "next(data2017)\n",
        "next(data2018)\n",
        "next(data2019)\n",
        "next(data2020)\n",
        "next(data2021)\n",
        "\n",
        "p_local=['서울', '경기', '인천', '부산', '대구', '광주', '울산', '세종', '제주', '강원', '충청북도', '충청남도', '전라북도', '전라남도', '경상북도', '경상남도']\n",
        "print('2012년부터 2021년도까지 초등학생 수를 분석할 수 있습니다.')\n",
        "time.sleep(1)\n",
        "print('분석하고 싶은 지역을 선택하세요. 가능 지역은'+ str(p_local) + '입니다.')\n",
        "\n",
        "dfg =[]\n",
        "\n",
        "while True :\n",
        "  region = input('조사하고 싶은 지역을 입력하세요.')\n",
        "  if region in p_local :\n",
        "    break\n",
        "  else :\n",
        "    print(\"지역을 다시 입력해주세요.\")\n",
        "\n",
        "for row in data2012 :\n",
        "  if region in row[0] :\n",
        "    dfg.append(int(row[1]))\n",
        "\n",
        "for row in data2013 :\n",
        "  if region in row[0] :\n",
        "    dfg.append(int(row[1]))\n",
        "\n",
        "for row in data2014 :\n",
        "  if region in row[0] :\n",
        "    dfg.append(int(row[1]))\n",
        "\n",
        "for row in data2015 :\n",
        "  if region in row[0] :\n",
        "    dfg.append(int(row[1]))\n",
        "\n",
        "for row in data2016 :\n",
        "  if region in row[0] :\n",
        "    dfg.append(int(row[1]))\n",
        "\n",
        "for row in data2017 :\n",
        "  if region in row[0] :\n",
        "    dfg.append(int(row[1]))\n",
        "\n",
        "for row in data2018 :\n",
        "  if region in row[0] :\n",
        "    dfg.append(int(row[1]))\n",
        "\n",
        "for row in data2019 :\n",
        "  if region in row[0] :\n",
        "    dfg.append(int(row[1]))\n",
        "\n",
        "for row in data2020 :\n",
        "  if region in row[0] :\n",
        "    dfg.append(int(row[1]))\n",
        "\n",
        "for row in data2021 :\n",
        "  if region in row[0] :\n",
        "    dfg.append(int(row[1]))\n",
        "\n",
        "y = dfg\n",
        "\n",
        "print(dfg)\n",
        "\n",
        "import matplotlib.pyplot as plt\n",
        "plt.rc('font', family = 'NanumGothic')\n",
        "plt.rcParams['axes.unicode_minus'] = False\n",
        "plt.title('2012 - 2021년도 지역별 초등학생 수 변화')\n",
        "plt.figure(figsize=(10, 5))\n",
        "plt.plot(y,marker=\"o\")\n",
        "plt.xticks(range(11), range(2012,2022))\n",
        "\n",
        "plt.show()\n",
        "\n",
        "print(str(region) + ' 지역의 2012년 초등생 수는 ' + str(format(dfg[0], ',')) + ' 이고 2021년 초등생 수는 ' + str(format(dfg[9], ',')) + ' 입니다.')\n",
        "\n",
        "if dfg[0] < dfg [9] :\n",
        "  print('힉생 수가 ' + str(format(abs(int(dfg[9]) - int(dfg[0])), ',')) + ' 명 증가 했습니다.')\n",
        "  print(\"변화율은 약 \" + str(round((abs(int(dfg[9]) - int(dfg[0])))*100/int(dfg[0]),2)) + \" % 입니다.\")\n",
        "\n",
        "elif dfg[0] > dfg [9] :\n",
        "  print('힉생 수가 ' + str(format(abs(int(dfg[9]) - int(dfg[0])), ',')) + ' 명 감소 했습니다.')\n",
        "  print(\"변화율은 약 \" + str(round((abs(int(dfg[9]) - int(dfg[0])))*100/int(dfg[0]),2)) + \" % 입니다.\")\n",
        "\n",
        "\n",
        "else :\n",
        "  print('해당 지역의 2012년과 2021년 학생 수는 변화 없습니다.')\n",
        "\n",
        "\n"
      ],
      "metadata": {
        "colab": {
          "base_uri": "https://localhost:8080/",
          "height": 740
        },
        "id": "-7x2XcQp9opE",
        "outputId": "285dd647-2836-4b80-d4a4-e1f0c069fdb2"
      },
      "execution_count": 70,
      "outputs": [
        {
          "output_type": "stream",
          "name": "stdout",
          "text": [
            "2012년부터 2021년도까지 초등학생 수를 분석할 수 있습니다.\n",
            "분석하고 싶은 지역을 선택하세요. 가능 지역은['서울', '경기', '인천', '부산', '대구', '광주', '울산', '세종', '제주', '강원', '충청북도', '충청남도', '전라북도', '전라남도', '경상북도', '경상남도']입니다.\n",
            "조사하고 싶은 지역을 입력하세요.인천\n",
            "[2843981, 2879782, 2902608, 2925815, 2943069, 2948542, 2954642, 2957026, 2942828, 2948375]\n"
          ]
        },
        {
          "output_type": "display_data",
          "data": {
            "text/plain": [
              "<Figure size 432x288 with 1 Axes>"
            ],
            "image/png": "[encoded data removed]"
          },
          "metadata": {
            "needs_background": "light"
          }
        },
        {
          "output_type": "display_data",
          "data": {
            "text/plain": [
              "<Figure size 720x360 with 1 Axes>"
            ],
            "image/png": "[encoded data removed]"
          },
          "metadata": {
            "needs_background": "light"
          }
        },
        {
          "output_type": "stream",
          "name": "stdout",
          "text": [
            "인천 지역의 2012년 초등생 수는 2,843,981 이고 2021년 초등생 수는 2,948,375 입니다.\n",
            "힉생 수가 104,394 명 증가 했습니다.\n",
            "변화율은 약 3.67 % 입니다.\n"
          ]
        }
      ]
    },
    {
      "cell_type": "code",
      "source": [
        ""
      ],
      "metadata": {
        "id": "WlnWf0MfJmel"
      },
      "execution_count": null,
      "outputs": []
    }
  ]
}